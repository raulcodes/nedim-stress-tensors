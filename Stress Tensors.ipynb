{
 "cells": [
  {
   "cell_type": "markdown",
   "id": "6417263e",
   "metadata": {},
   "source": [
    "# Transformation of Stress\n",
    "\n",
    "Specify the stress tensors and the unit vectors for new stress directions, press enter after each input."
   ]
  },
  {
   "cell_type": "code",
   "execution_count": 13,
   "id": "f1ec767f",
   "metadata": {
    "scrolled": true
   },
   "outputs": [
    {
     "data": {
      "text/markdown": [
       "## Stress Tensors:\n"
      ],
      "text/plain": [
       "<IPython.core.display.Markdown object>"
      ]
     },
     "metadata": {},
     "output_type": "display_data"
    },
    {
     "name": "stdout",
     "output_type": "stream",
     "text": [
      "Tx: 100i + 50j - 50k\n",
      "Ty: 50i + 200j\n",
      "Tz: -50i + 200k\n"
     ]
    },
    {
     "data": {
      "text/markdown": [
       "## Unit Vectors for Direction:"
      ],
      "text/plain": [
       "<IPython.core.display.Markdown object>"
      ]
     },
     "metadata": {},
     "output_type": "display_data"
    },
    {
     "name": "stdout",
     "output_type": "stream",
     "text": [
      "N1: (sqrt(3)/2)i + (1/4)j + (sqrt(3)/4)k\n",
      "N2: -(1/2)I + (sqrt(3)/4)j + (3/4)k\n",
      "N3: -(sqrt(3)/2)j + (1/2)k\n"
     ]
    },
    {
     "data": {
      "text/markdown": [
       "## Input"
      ],
      "text/plain": [
       "<IPython.core.display.Markdown object>"
      ]
     },
     "metadata": {},
     "output_type": "display_data"
    },
    {
     "data": {
      "text/latex": [
       "$\\displaystyle Tx: 100i + 50j - 50k \\\\Ty: 50i + 200j \\\\Tz: -50i + 200k$"
      ],
      "text/plain": [
       "<IPython.core.display.Math object>"
      ]
     },
     "metadata": {},
     "output_type": "display_data"
    },
    {
     "data": {
      "text/latex": [
       "\\begin{bmatrix}\n",
       "    100.0_i & 50.0_j & -50.0_k \\\\ \n",
       "    50.0_i & 200.0_j & 0.0_k \\\\ \n",
       "    -50.0_i & 0.0_j & 200.0_k \n",
       "\\end{bmatrix}"
      ],
      "text/plain": [
       "<IPython.core.display.Latex object>"
      ]
     },
     "metadata": {},
     "output_type": "display_data"
    },
    {
     "data": {
      "text/latex": [
       "$\\displaystyle N1: (sqrt(3)/2)i + (1/4)j + (sqrt(3)/4)k \\\\N2: -(1/2)I + (sqrt(3)/4)j + (3/4)k \\\\N3: -(sqrt(3)/2)j + (1/2)k \\\\$"
      ],
      "text/plain": [
       "<IPython.core.display.Math object>"
      ]
     },
     "metadata": {},
     "output_type": "display_data"
    }
   ],
   "source": [
    "from IPython.display import display, Markdown, Math, Latex\n",
    "import numpy as np\n",
    "import re\n",
    "\n",
    "def parse_input(t):\n",
    "    T_array = np.zeros(3)\n",
    "\n",
    "    tensor_matrix_regexp = r\"(\\-*\\s*\\w*)([ijk])\"\n",
    "    matches = re.findall(tensor_matrix_regexp, t)\n",
    "    if matches:\n",
    "        if len(matches) > 3 or len(matches) == 0:\n",
    "            raise Exception('Please enter a valid stress tensor')\n",
    "        for item in matches:\n",
    "            sanitized_value = item[0].replace(\" \", \"\")\n",
    "            if sanitized_value == '':\n",
    "                sanitized_value = \"1\"\n",
    "            if item[1] == 'i':\n",
    "                T_array[0] = sanitized_value\n",
    "            elif item[1] == 'j':\n",
    "                T_array[1] = sanitized_value\n",
    "            elif item[1] == 'k':\n",
    "                T_array[2] = sanitized_value\n",
    "    return T_array\n",
    "\n",
    "display(Markdown(\"## Stress Tensors:\\n\"))\n",
    "Tx = input('Tx: ')\n",
    "Ty = input('Ty: ')\n",
    "Tz = input('Tz: ')\n",
    "\n",
    "display(Markdown(\"## Unit Vectors for Direction:\"))\n",
    "N1 = input('N1: ')\n",
    "N2 = input('N2: ')\n",
    "N3 = input('N3: ')\n",
    "\n",
    "initial_stress_tensor = np.array([parse_input(Tx), parse_input(Ty), parse_input(Tz)])\n",
    "ist = initial_stress_tensor\n",
    "\n",
    "display(Markdown(\"## Input\"))\n",
    "display(Math(r\"Tx: {} \\\\Ty: {} \\\\Tz: {}\".format(Tx, Ty, Tz)))\n",
    "display(Latex(r\"\"\"\\begin{{bmatrix}}\n",
    "    {}_i & {}_j & {}_k \\\\ \n",
    "    {}_i & {}_j & {}_k \\\\ \n",
    "    {}_i & {}_j & {}_k \n",
    "\\end{{bmatrix}}\"\"\".format(ist[0][0], ist[0][1], ist[0][2], ist[1][0], ist[1][1], ist[1][2], ist[2][0], ist[2][1], ist[2][2])))\n",
    "display(Math(r\"N1: {} \\\\N2: {} \\\\N3: {} \\\\\".format(N1, N2, N3)))\n",
    "\n",
    "\n",
    "\"\"\"\n",
    "At this point, we have a few values: \n",
    "initial_stress_tensor - a 2-dimensional array of values that represents a 3x3 stress tensor matrix. e.g.,\n",
    "    [[100,  50,  -5],\n",
    "     [ 50, 200,   0],\n",
    "     [-50,   0, 200]]\n",
    "\n",
    "three unit vectors (N1, N2, N3)\n",
    "\"\"\""
   ]
  }
 ],
 "metadata": {
  "interpreter": {
   "hash": "aee8b7b246df8f9039afb4144a1f6fd8d2ca17a180786b69acc140d282b71a49"
  },
  "kernelspec": {
   "display_name": "Python 3",
   "language": "python",
   "name": "python3"
  },
  "language_info": {
   "codemirror_mode": {
    "name": "ipython",
    "version": 3
   },
   "file_extension": ".py",
   "mimetype": "text/x-python",
   "name": "python",
   "nbconvert_exporter": "python",
   "pygments_lexer": "ipython3",
   "version": "3.8.0"
  }
 },
 "nbformat": 4,
 "nbformat_minor": 5
}
