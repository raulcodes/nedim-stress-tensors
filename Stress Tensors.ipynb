{
 "cells": [
  {
   "cell_type": "markdown",
   "id": "6417263e",
   "metadata": {},
   "source": [
    "# Transformation of Stress\n",
    "\n",
    "Specify the stress tensors and the unit vectors for new stress directions, press enter after each input."
   ]
  },
  {
   "cell_type": "code",
   "execution_count": null,
   "id": "f1ec767f",
   "metadata": {
    "scrolled": false,
    "slideshow": {
     "slide_type": "slide"
    },
    "tags": [
     "hide-input"
    ]
   },
   "outputs": [],
   "source": [
    "from cube import UnitCube\n",
    "from IPython.display import display, Markdown\n",
    "from itertools import product, combinations\n",
    "import math\n",
    "import matplotlib.pyplot as plt\n",
    "import numpy as np\n",
    "from stress import normal_stress_component as nsc\n",
    "from stress import xy_stress_component as rsc\n",
    "from utils import parse_input, parse_unit_vector_input, display_input, display_output\n",
    "\n",
    "display(Markdown(\"## Stress Tensors:\\n\"))\n",
    "Tx = input('Tx: ')\n",
    "Ty = input('Ty: ')\n",
    "Tz = input('Tz: ')\n",
    "\n",
    "# Example data; uncomment next three lines, comment previous three\n",
    "# Tx = \"100i + 50j - 50k\"\n",
    "# Ty = \"50i + 200j\"\n",
    "# Tz = \"-50i + 200k\"\n",
    "\n",
    "display(Markdown(\"## Unit Vectors for Direction:\"))\n",
    "N1 = input('N1: ')\n",
    "N2 = input('N2: ')\n",
    "N3 = input('N3: ')\n",
    "\n",
    "# Example data; uncomment next three lines, comment previous three\n",
    "# N1 = \"(sqrt(3)/2)i + (1/4)j + (sqrt(3)/4)k\"\n",
    "# N2 = \"-(1/2)i +(sqrt(3)/4)j + (3/4)k\"\n",
    "# N3 = \"-(sqrt(3)/2)j + (1/2)k\"\n",
    "\n",
    "stress_tensor = np.array([parse_input(Tx), parse_input(Ty), parse_input(Tz)])\n",
    "\n",
    "display_input(stress_tensor, Tx, Ty, Tz, N1, N2, N3)\n",
    "\n",
    "N_1 = parse_unit_vector_input(N1)\n",
    "N_2 = parse_unit_vector_input(N2)\n",
    "N_3 = parse_unit_vector_input(N3)\n",
    "\n",
    "XX = nsc(stress_tensor, N_1)\n",
    "XY = rsc(stress_tensor, N_1, N_2)\n",
    "YY = nsc(stress_tensor, N_2)\n",
    "XZ = rsc(stress_tensor, N_1, N_3)\n",
    "ZZ = nsc(stress_tensor, N_3)\n",
    "YZ = rsc(stress_tensor, N_2, N_3)\n",
    "\n",
    "transformed_stress_tensor = np.array([[XX, XY, XZ], [XY, YY, YZ], [XZ, YZ, ZZ]])\n",
    "display_output(transformed_stress_tensor)\n",
    "\n",
    "N12DP = np.around(np.dot(N_1, N_2), decimals=2)\n",
    "n12 = \"N1 · N2: {}\".format(N12DP)\n",
    "display(Markdown(n12))\n",
    "\n",
    "N23DP = np.around(np.dot(N_2, N_3), decimals=2)\n",
    "n23 = \"N2 · N3: {}\".format(N23DP)\n",
    "display(Markdown(n23))\n",
    "\n",
    "N13DP = np.around(np.dot(N_1, N_3), decimals=2)\n",
    "n13 = \"N1 · N3: {}\".format(N13DP)\n",
    "display(Markdown(n13))\n",
    "\n",
    "# Display Cube\n",
    "display(Markdown(\"Original cube in blue; Transformed cube in green\"))\n",
    "cube = UnitCube()\n",
    "cube.drawInitialCube(color=\"blue\")\n",
    "cube.drawTransformedCube(N_1, N_2, N_3, \"green\")\n",
    "\n",
    "plt.show()\n"
   ]
  },
  {
   "cell_type": "code",
   "execution_count": null,
   "id": "a95d7391",
   "metadata": {},
   "outputs": [],
   "source": []
  }
 ],
 "metadata": {
  "celltoolbar": "Slideshow",
  "interpreter": {
   "hash": "aee8b7b246df8f9039afb4144a1f6fd8d2ca17a180786b69acc140d282b71a49"
  },
  "kernelspec": {
   "display_name": "Python 3",
   "language": "python",
   "name": "python3"
  },
  "language_info": {
   "codemirror_mode": {
    "name": "ipython",
    "version": 3
   },
   "file_extension": ".py",
   "mimetype": "text/x-python",
   "name": "python",
   "nbconvert_exporter": "python",
   "pygments_lexer": "ipython3",
   "version": "3.8.0"
  }
 },
 "nbformat": 4,
 "nbformat_minor": 5
}
