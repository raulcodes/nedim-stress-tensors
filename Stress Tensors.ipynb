{
 "cells": [
  {
   "cell_type": "markdown",
   "id": "6417263e",
   "metadata": {},
   "source": [
    "# Stress Tensors"
   ]
  },
  {
   "cell_type": "code",
   "execution_count": 50,
   "id": "f1ec767f",
   "metadata": {
    "scrolled": false
   },
   "outputs": [
    {
     "name": "stdout",
     "output_type": "stream",
     "text": [
      "Tx: j\n",
      "Ty: j\n",
      "Tz: j\n",
      "N1: g\n",
      "N2: g\n",
      "N3: g\n"
     ]
    },
    {
     "data": {
      "text/latex": [
       "$\\displaystyle Tx: j \\\\Ty: j \\\\Tz: j \\\\$"
      ],
      "text/plain": [
       "<IPython.core.display.Math object>"
      ]
     },
     "metadata": {},
     "output_type": "display_data"
    },
    {
     "data": {
      "text/latex": [
       "\\begin{bmatrix}\n",
       "    0.0_i & 1.0_j & 0.0_k \\\\ \n",
       "    0.0_i & 1.0_j & 0.0_k \\\\ \n",
       "    0.0_i & 1.0_j & 0.0_k \n",
       "\\end{bmatrix} \\\\"
      ],
      "text/plain": [
       "<IPython.core.display.Latex object>"
      ]
     },
     "metadata": {},
     "output_type": "display_data"
    },
    {
     "data": {
      "text/latex": [
       "$\\displaystyle N1: g \\\\N2: g \\\\N3: g \\\\$"
      ],
      "text/plain": [
       "<IPython.core.display.Math object>"
      ]
     },
     "metadata": {},
     "output_type": "display_data"
    }
   ],
   "source": [
    "from IPython.display import display, Math, Latex\n",
    "import numpy as np\n",
    "import re\n",
    "\n",
    "def parse_input(t):\n",
    "    T_array = np.zeros(3)\n",
    "\n",
    "    tensor_matrix_regexp = r\"(\\-*\\s*\\w*)([ijk])\"\n",
    "    matches = re.findall(tensor_matrix_regexp, t)\n",
    "    if matches:\n",
    "        if len(matches) > 3 or len(matches) == 0:\n",
    "            raise Exception('Please enter a valid stress tensor')\n",
    "        for item in matches:\n",
    "            sanitized_value = item[0].replace(\" \", \"\")\n",
    "            if sanitized_value == '':\n",
    "                sanitized_value = \"1\"\n",
    "            if item[1] == 'i':\n",
    "                T_array[0] = sanitized_value\n",
    "            elif item[1] == 'j':\n",
    "                T_array[1] = sanitized_value\n",
    "            elif item[1] == 'k':\n",
    "                T_array[2] = sanitized_value\n",
    "    return T_array\n",
    "\n",
    "Tx = input('Tx: ')\n",
    "Ty = input('Ty: ')\n",
    "Tz = input('Tz: ')\n",
    "\n",
    "N1 = input('N1: ')\n",
    "N2 = input('N2: ')\n",
    "N3 = input('N3: ')\n",
    "\n",
    "initial_stress_tensor = np.array([parse_input(Tx), parse_input(Ty), parse_input(Tz)])\n",
    "ist = initial_stress_tensor\n",
    "display(Math(r\"Tx: {} \\\\Ty: {} \\\\Tz: {} \\\\\".format(Tx, Ty, Tz)))\n",
    "display(Latex(r\"\"\"\\begin{{bmatrix}}\n",
    "    {}_i & {}_j & {}_k \\\\ \n",
    "    {}_i & {}_j & {}_k \\\\ \n",
    "    {}_i & {}_j & {}_k \n",
    "\\end{{bmatrix}} \\\\\"\"\".format(ist[0][0], ist[0][1], ist[0][2], ist[1][0], ist[1][1], ist[1][2], ist[2][0], ist[2][1], ist[2][2])))\n",
    "display(Math(r\"N1: {} \\\\N2: {} \\\\N3: {} \\\\\".format(N1, N2, N3)))"
   ]
  },
  {
   "cell_type": "code",
   "execution_count": null,
   "id": "0853fc11",
   "metadata": {},
   "outputs": [],
   "source": []
  },
  {
   "cell_type": "code",
   "execution_count": null,
   "id": "147568bb",
   "metadata": {},
   "outputs": [],
   "source": []
  }
 ],
 "metadata": {
  "interpreter": {
   "hash": "aee8b7b246df8f9039afb4144a1f6fd8d2ca17a180786b69acc140d282b71a49"
  },
  "kernelspec": {
   "display_name": "Python 3",
   "language": "python",
   "name": "python3"
  },
  "language_info": {
   "codemirror_mode": {
    "name": "ipython",
    "version": 3
   },
   "file_extension": ".py",
   "mimetype": "text/x-python",
   "name": "python",
   "nbconvert_exporter": "python",
   "pygments_lexer": "ipython3",
   "version": "3.8.0"
  }
 },
 "nbformat": 4,
 "nbformat_minor": 5
}
