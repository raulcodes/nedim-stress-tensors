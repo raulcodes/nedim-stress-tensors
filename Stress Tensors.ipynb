{
 "cells": [
  {
   "cell_type": "markdown",
   "id": "6417263e",
   "metadata": {},
   "source": [
    "# Transformation of Stress\n",
    "\n",
    "Specify the stress tensors and the unit vectors for new stress directions, press enter after each input."
   ]
  },
  {
   "cell_type": "code",
   "execution_count": null,
   "id": "5a529e28",
   "metadata": {
    "scrolled": true,
    "tags": [
     "hide-input"
    ]
   },
   "outputs": [],
   "source": [
    "from itertools import product, combinations\n",
    "import matplotlib.pyplot as plt\n",
    "\n",
    "fig = plt.figure(figsize=(15, 15))\n",
    "ax = fig.add_subplot(111, projection='3d')\n",
    "r = [-1, 1]\n",
    "for s, e in combinations(np.array(list(product(r, r, r))), 2):\n",
    "   if np.sum(np.abs(s - e)) == r[1]-r[0]:\n",
    "      ax.plot3D(*zip(s, e), color=\"black\")\n",
    "ax.set_title(\"Initial Cube\")\n",
    "ax.set_yticks([])\n",
    "ax.set_xticks([])\n",
    "ax.set_zticks([])\n",
    "ax.set_ymargin(0.8)\n",
    "ax.set_xmargin(0.8)\n",
    "ax.set_zmargin(0.8)\n",
    "ax.quiver(0, 0, 0, 1, 0, 0, length=4, arrow_length_ratio=.08, color=\"blue\")\n",
    "ax.quiver(0, 0, 0, 0, -1, 0, length=4, arrow_length_ratio=.08, color=\"green\")\n",
    "ax.quiver(0, 0, 0, 0, 0, 1, length=4, arrow_length_ratio=.08, color=\"red\")"
   ]
  },
  {
   "cell_type": "code",
   "execution_count": null,
   "id": "f1ec767f",
   "metadata": {
    "scrolled": false,
    "tags": [
     "hide-input"
    ]
   },
   "outputs": [],
   "source": [
    "from IPython.display import display, Markdown, Math, Latex\n",
    "import numpy as np\n",
    "import re\n",
    "\n",
    "def parse_input(t):\n",
    "    T_array = np.zeros(3)\n",
    "\n",
    "    tensor_matrix_regexp = r\"(\\-*\\s*\\w*)([ijk])\"\n",
    "    matches = re.findall(tensor_matrix_regexp, t)\n",
    "    if matches:\n",
    "        if len(matches) > 3 or len(matches) == 0:\n",
    "            raise Exception('Please enter a valid stress tensor')\n",
    "        for item in matches:\n",
    "            sanitized_value = item[0].replace(\" \", \"\")\n",
    "            if sanitized_value == '':\n",
    "                sanitized_value = \"1\"\n",
    "            if item[1] == 'i':\n",
    "                T_array[0] = sanitized_value\n",
    "            elif item[1] == 'j':\n",
    "                T_array[1] = sanitized_value\n",
    "            elif item[1] == 'k':\n",
    "                T_array[2] = sanitized_value\n",
    "    return T_array\n",
    "\n",
    "display(Markdown(\"## Stress Tensors:\\n\"))\n",
    "Tx = input('Tx: ')\n",
    "Ty = input('Ty: ')\n",
    "Tz = input('Tz: ')\n",
    "\n",
    "display(Markdown(\"## Unit Vectors for Direction:\"))\n",
    "N1 = input('N1: ')\n",
    "N2 = input('N2: ')\n",
    "N3 = input('N3: ')\n",
    "\n",
    "initial_stress_tensor = np.array([parse_input(Tx), parse_input(Ty), parse_input(Tz)])\n",
    "ist = initial_stress_tensor\n",
    "\n",
    "display(Markdown(\"## Input\"))\n",
    "display(Math(r\"Tx: {} \\\\Ty: {} \\\\Tz: {}\".format(Tx, Ty, Tz)))\n",
    "display(Latex(r\"\"\"\\begin{{bmatrix}}\n",
    "    {}_i & {}_j & {}_k \\\\ \n",
    "    {}_i & {}_j & {}_k \\\\ \n",
    "    {}_i & {}_j & {}_k \n",
    "\\end{{bmatrix}}\"\"\".format(ist[0][0], ist[0][1], ist[0][2], ist[1][0], ist[1][1], ist[1][2], ist[2][0], ist[2][1], ist[2][2])))\n",
    "display(Math(r\"N1: {} \\\\N2: {} \\\\N3: {} \\\\\".format(N1, N2, N3)))\n",
    "\n",
    "\"\"\"\n",
    "At this point, we have a few values: \n",
    "initial_stress_tensor - a 2-dimensional array of values that represents a 3x3 stress tensor matrix. e.g.,\n",
    "    [[100,  50,  -5],\n",
    "     [ 50, 200,   0],\n",
    "     [-50,   0, 200]]\n",
    "\n",
    "three unit vectors (N1, N2, N3)\n",
    "\"\"\""
   ]
  }
 ],
 "metadata": {
  "celltoolbar": "Edit Metadata",
  "interpreter": {
   "hash": "aee8b7b246df8f9039afb4144a1f6fd8d2ca17a180786b69acc140d282b71a49"
  },
  "kernelspec": {
   "display_name": "Python 3",
   "language": "python",
   "name": "python3"
  },
  "language_info": {
   "codemirror_mode": {
    "name": "ipython",
    "version": 3
   },
   "file_extension": ".py",
   "mimetype": "text/x-python",
   "name": "python",
   "nbconvert_exporter": "python",
   "pygments_lexer": "ipython3",
   "version": "3.8.0"
  }
 },
 "nbformat": 4,
 "nbformat_minor": 5
}
