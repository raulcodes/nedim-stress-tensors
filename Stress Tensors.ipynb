{
 "cells": [
  {
   "cell_type": "markdown",
   "id": "6417263e",
   "metadata": {},
   "source": [
    "# Transformation of Stress\n",
    "\n",
    "Specify the stress tensors and the unit vectors for new stress directions, press enter after each input."
   ]
  },
  {
   "cell_type": "code",
   "execution_count": null,
   "id": "5a529e28",
   "metadata": {
    "scrolled": false,
    "tags": [
     "hide-input"
    ]
   },
   "outputs": [],
   "source": [
    "from itertools import product, combinations\n",
    "import matplotlib.pyplot as plt\n",
    "import numpy as np\n",
    "\n",
    "fig = plt.figure(figsize=(15, 15))\n",
    "ax = fig.add_subplot(111, projection='3d')\n",
    "r = [-1, 1]\n",
    "for s, e in combinations(np.array(list(product(r, r, r))), 2):\n",
    "   if np.sum(np.abs(s - e)) == r[1]-r[0]:\n",
    "      ax.plot3D(*zip(s, e), color=\"black\")\n",
    "ax.set_title(\"Initial Cube\")\n",
    "ax.set_yticks([])\n",
    "ax.set_xticks([])\n",
    "ax.set_zticks([])\n",
    "ax.set_ymargin(0.8)\n",
    "ax.set_xmargin(0.8)\n",
    "ax.set_zmargin(0.8)\n",
    "ax.quiver(0, 0, 0, 1, 0, 0, length=4, arrow_length_ratio=.08, color=\"blue\")\n",
    "ax.quiver(0, 0, 0, 0, -1, 0, length=4, arrow_length_ratio=.08, color=\"green\")\n",
    "ax.quiver(0, 0, 0, 0, 0, 1, length=4, arrow_length_ratio=.08, color=\"red\")"
   ]
  },
  {
   "cell_type": "code",
   "execution_count": 1,
   "id": "f1ec767f",
   "metadata": {
    "scrolled": true,
    "tags": [
     "hide-input"
    ]
   },
   "outputs": [
    {
     "data": {
      "text/markdown": [
       "## Stress Tensors:\n"
      ],
      "text/plain": [
       "<IPython.core.display.Markdown object>"
      ]
     },
     "metadata": {},
     "output_type": "display_data"
    },
    {
     "name": "stdout",
     "output_type": "stream",
     "text": [
      "Tx: i\n",
      "Ty: i\n",
      "Tz: i\n"
     ]
    },
    {
     "data": {
      "text/markdown": [
       "## Unit Vectors for Direction:"
      ],
      "text/plain": [
       "<IPython.core.display.Markdown object>"
      ]
     },
     "metadata": {},
     "output_type": "display_data"
    },
    {
     "name": "stdout",
     "output_type": "stream",
     "text": [
      "N1: -(sqrt(3)/2)i\n",
      "N2: i\n",
      "N3: i\n"
     ]
    },
    {
     "data": {
      "text/markdown": [
       "## Input"
      ],
      "text/plain": [
       "<IPython.core.display.Markdown object>"
      ]
     },
     "metadata": {},
     "output_type": "display_data"
    },
    {
     "data": {
      "text/latex": [
       "$\\displaystyle Tx: i \\\\Ty: i \\\\Tz: i$"
      ],
      "text/plain": [
       "<IPython.core.display.Math object>"
      ]
     },
     "metadata": {},
     "output_type": "display_data"
    },
    {
     "data": {
      "text/latex": [
       "\\begin{bmatrix}\n",
       "        1.0_i & 0.0_j & 0.0_k \\\\\n",
       "        1.0_i & 0.0_j & 0.0_k \\\\\n",
       "        1.0_i & 0.0_j & 0.0_k\n",
       "    \\end{bmatrix}"
      ],
      "text/plain": [
       "<IPython.core.display.Latex object>"
      ]
     },
     "metadata": {},
     "output_type": "display_data"
    },
    {
     "data": {
      "text/latex": [
       "$\\displaystyle N1: -(sqrt(3)/2)i \\\\N2: i \\\\N3: i \\\\$"
      ],
      "text/plain": [
       "<IPython.core.display.Math object>"
      ]
     },
     "metadata": {},
     "output_type": "display_data"
    },
    {
     "name": "stdout",
     "output_type": "stream",
     "text": [
      "('-(sqrt(3)/2)', 'i')\n"
     ]
    },
    {
     "ename": "NameError",
     "evalue": "name 'math' is not defined",
     "output_type": "error",
     "traceback": [
      "\u001b[0;31m---------------------------------------------------------------------------\u001b[0m",
      "\u001b[0;31mNameError\u001b[0m                                 Traceback (most recent call last)",
      "\u001b[0;32m<ipython-input-1-bf12a0e68bd0>\u001b[0m in \u001b[0;36m<module>\u001b[0;34m\u001b[0m\n\u001b[1;32m     18\u001b[0m \u001b[0mdisplay_input\u001b[0m\u001b[0;34m(\u001b[0m\u001b[0minitial_stress_tensor\u001b[0m\u001b[0;34m,\u001b[0m \u001b[0mTx\u001b[0m\u001b[0;34m,\u001b[0m \u001b[0mTy\u001b[0m\u001b[0;34m,\u001b[0m \u001b[0mTz\u001b[0m\u001b[0;34m,\u001b[0m \u001b[0mN1\u001b[0m\u001b[0;34m,\u001b[0m \u001b[0mN2\u001b[0m\u001b[0;34m,\u001b[0m \u001b[0mN3\u001b[0m\u001b[0;34m)\u001b[0m\u001b[0;34m\u001b[0m\u001b[0;34m\u001b[0m\u001b[0m\n\u001b[1;32m     19\u001b[0m \u001b[0;34m\u001b[0m\u001b[0m\n\u001b[0;32m---> 20\u001b[0;31m \u001b[0munit_vector\u001b[0m \u001b[0;34m=\u001b[0m \u001b[0mparse_unit_vector_input\u001b[0m\u001b[0;34m(\u001b[0m\u001b[0mN1\u001b[0m\u001b[0;34m)\u001b[0m\u001b[0;34m\u001b[0m\u001b[0;34m\u001b[0m\u001b[0m\n\u001b[0m\u001b[1;32m     21\u001b[0m \u001b[0mprint\u001b[0m\u001b[0;34m(\u001b[0m\u001b[0munit_vector\u001b[0m\u001b[0;34m)\u001b[0m\u001b[0;34m\u001b[0m\u001b[0;34m\u001b[0m\u001b[0m\n",
      "\u001b[0;32m~/Documents/playground/nedim-stress-tensors/utils.py\u001b[0m in \u001b[0;36mparse_unit_vector_input\u001b[0;34m(t)\u001b[0m\n\u001b[1;32m     38\u001b[0m                 \u001b[0msanitized_value\u001b[0m \u001b[0;34m=\u001b[0m \u001b[0;34m\"1\"\u001b[0m\u001b[0;34m\u001b[0m\u001b[0;34m\u001b[0m\u001b[0m\n\u001b[1;32m     39\u001b[0m             \u001b[0msanitized_value\u001b[0m \u001b[0;34m=\u001b[0m \u001b[0msanitized_value\u001b[0m\u001b[0;34m.\u001b[0m\u001b[0mreplace\u001b[0m\u001b[0;34m(\u001b[0m\u001b[0;34m\"sqrt\"\u001b[0m\u001b[0;34m,\u001b[0m \u001b[0;34m\"math.sqrt\"\u001b[0m\u001b[0;34m)\u001b[0m\u001b[0;34m\u001b[0m\u001b[0;34m\u001b[0m\u001b[0m\n\u001b[0;32m---> 40\u001b[0;31m             \u001b[0msanitized_value\u001b[0m \u001b[0;34m=\u001b[0m \u001b[0meval\u001b[0m\u001b[0;34m(\u001b[0m\u001b[0msanitized_value\u001b[0m\u001b[0;34m)\u001b[0m\u001b[0;34m\u001b[0m\u001b[0;34m\u001b[0m\u001b[0m\n\u001b[0m\u001b[1;32m     41\u001b[0m             \u001b[0;32mif\u001b[0m \u001b[0mitem\u001b[0m\u001b[0;34m[\u001b[0m\u001b[0;36m1\u001b[0m\u001b[0;34m]\u001b[0m \u001b[0;34m==\u001b[0m \u001b[0;34m'i'\u001b[0m\u001b[0;34m:\u001b[0m\u001b[0;34m\u001b[0m\u001b[0;34m\u001b[0m\u001b[0m\n\u001b[1;32m     42\u001b[0m                 \u001b[0mT_array\u001b[0m\u001b[0;34m[\u001b[0m\u001b[0;36m0\u001b[0m\u001b[0;34m]\u001b[0m \u001b[0;34m=\u001b[0m \u001b[0msanitized_value\u001b[0m\u001b[0;34m\u001b[0m\u001b[0;34m\u001b[0m\u001b[0m\n",
      "\u001b[0;32m~/Documents/playground/nedim-stress-tensors/utils.py\u001b[0m in \u001b[0;36m<module>\u001b[0;34m\u001b[0m\n",
      "\u001b[0;31mNameError\u001b[0m: name 'math' is not defined"
     ]
    }
   ],
   "source": [
    "from IPython.display import display, Markdown\n",
    "\n",
    "import numpy as np\n",
    "from utils import parse_input, parse_unit_vector_input, display_input\n",
    "\n",
    "display(Markdown(\"## Stress Tensors:\\n\"))\n",
    "Tx = input('Tx: ')\n",
    "Ty = input('Ty: ')\n",
    "Tz = input('Tz: ')\n",
    "\n",
    "display(Markdown(\"## Unit Vectors for Direction:\"))\n",
    "N1 = input('N1: ')\n",
    "N2 = input('N2: ')\n",
    "N3 = input('N3: ')\n",
    "\n",
    "initial_stress_tensor = np.array([parse_input(Tx), parse_input(Ty), parse_input(Tz)])\n",
    "\n",
    "display_input(initial_stress_tensor, Tx, Ty, Tz, N1, N2, N3)\n",
    "\n",
    "unit_vector = parse_unit_vector_input(N1)\n",
    "print(unit_vector)\n"
   ]
  },
  {
   "cell_type": "code",
   "execution_count": null,
   "id": "8767831a",
   "metadata": {
    "scrolled": true
   },
   "outputs": [],
   "source": []
  }
 ],
 "metadata": {
  "celltoolbar": "Edit Metadata",
  "interpreter": {
   "hash": "aee8b7b246df8f9039afb4144a1f6fd8d2ca17a180786b69acc140d282b71a49"
  },
  "kernelspec": {
   "display_name": "Python 3",
   "language": "python",
   "name": "python3"
  },
  "language_info": {
   "codemirror_mode": {
    "name": "ipython",
    "version": 3
   },
   "file_extension": ".py",
   "mimetype": "text/x-python",
   "name": "python",
   "nbconvert_exporter": "python",
   "pygments_lexer": "ipython3",
   "version": "3.8.0"
  }
 },
 "nbformat": 4,
 "nbformat_minor": 5
}
